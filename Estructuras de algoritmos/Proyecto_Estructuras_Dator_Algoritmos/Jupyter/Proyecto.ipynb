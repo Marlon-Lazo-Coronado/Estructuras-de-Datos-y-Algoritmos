{
 "cells": [
  {
   "cell_type": "markdown",
   "id": "alternate-beaver",
   "metadata": {},
   "source": [
    "# Uso de librería wxPython para desarrollo de aplicaciones visuales\n"
   ]
  },
  {
   "cell_type": "markdown",
   "id": "alternate-target",
   "metadata": {},
   "source": [
    "###  IE-0217\n",
    "\n",
    "### Marlon Lazo Coronado - B43717\n",
    "### Gokeh Ávila Blanco - B50747"
   ]
  },
  {
   "cell_type": "markdown",
   "id": "intended-orleans",
   "metadata": {},
   "source": [
    "## Biblioteca Gráfica WxPython"
   ]
  },
  {
   "cell_type": "markdown",
   "id": "clear-structure",
   "metadata": {},
   "source": [
    "<div style=\"text-align: justify\">\n",
    "wxPython es una biblioteca para usar wxWidgets (C++) desde Python, muy utiliza para el desarrollo de GUI (graphical user interface), adaptada de la biblioteca gráfica wxWidgets para su implementación en Python. Es una biblioteca multiplataformas, esto quiere decir que tienen una buena portabilidad y capacidad de operar en distintos sistemas operativos, algunos de estos son Windows, MacOS, GTK+, Motif, OpenVMS y OS/2.\n",
    "<div/>\n",
    "\n",
    " [Unipython](https://unipython.com/desarrolla-tu-gui-con-wxpython-en-python-3/ \"Introdución a wxPython\")"
   ]
  },
  {
   "cell_type": "markdown",
   "id": "convinced-publication",
   "metadata": {},
   "source": [
    "<div style=\"text-align: justify\">\n",
    "Las wxWidgets son unas bibliotecas multiplataforma y libres, estan implementadas en C++ y su finalidad es el de sarrollo de GUI. Están publicadas bajo una licencia LGPL, puede ser propietario, por lo que se pueden desarrollar programas con fines comerciales y no pagar derechos de licencia.\n",
    "<div/>"
   ]
  },
  {
   "cell_type": "markdown",
   "id": "concrete-restriction",
   "metadata": {},
   "source": [
    "1. wxPython hereda de wxWidgets las siguientes caracteristicas:\n",
    "    1. Robustez, estas se vienen desarrollando desde 1992. \n",
    "    2. Desde sus inicios tienen un enfoque multiplataforma.\n",
    "    3. Conserva el Look and Feel del entorno y su velocidad, ya que utiliza componentes GUI estándar de cada SO.\n",
    "    4. Permite embeber componentes nativos.\n",
    "    5. LGPL. Aplicaciones con cualquier licencia.\n",
    "    6. Windows, Linux, Mac y más con casi el mismo código fuente, sólo recompilando.\n",
    "[Introdución a wxPython](https://marcelofernandez.info/charlas/Introduccion%20a%20wxPython.pdf/ \"Introdución a wxPython\") "
   ]
  },
  {
   "cell_type": "markdown",
   "id": "bearing-proposition",
   "metadata": {},
   "source": [
    "<img src= \"wxp.PNG\" alt=\"drawing\" width=\"400\"/>\n",
    "\n",
    "<div style=\"text-align: center\">\n",
    "Bibliotecas que usan wxWidgets\n",
    "<div/>\n",
    "\n",
    "[Introdución a wxPython](https://marcelofernandez.info/charlas/Introduccion%20a%20wxPython.pdf/ \"Introdución a wxPython\") "
   ]
  },
  {
   "cell_type": "markdown",
   "id": "organic-thriller",
   "metadata": {},
   "source": [
    "Su desarrollo por lo general es mediante programacion orientada a objetos (POO), para comanzar realizar una aplicacion, se debe de hacer los siguientes pasos:\n",
    "\n",
    "    1. Definir una clase que hereda de la super clase wx.Frame que es tipo ventana, en esta se insertan los controles de la interfaz\n",
    "    \n",
    "    2. Definir el constructor de la clase __init__.\n",
    "    \n",
    "    3. Detro de metodo __init__ se llama el metodo __init__ de la super clase y se le pasan los argumento del primera clase __init__.\n",
    "    \n",
    "    4. Utilizar el metodo OnEvent para capturar la llamada o respuestas de los eventos del programa.\n",
    "    5. Posteriormente se debe instanciar un objeto de la clase wx.App, esta inicializa el sistema de wxPython y todo el conjunto de interfaces gráficas"
   ]
  },
  {
   "cell_type": "code",
   "execution_count": 5,
   "id": "obvious-mattress",
   "metadata": {},
   "outputs": [],
   "source": [
    "import wx\n",
    " \n",
    "class Mi_app(wx.Frame):\n",
    "    #Construtor\n",
    "    def __init__(self,*args,**kwargs):\n",
    "        wx.Frame.__init__(self,*args,**kwargs)\n",
    "        # Definicion de botones\n",
    "        self.button = wx.Button(self, -1, u\"Botón A\", size=(150,30), pos=(10,0))\n",
    "         # Captura de eventos\n",
    "        self.Bind(wx.EVT_BUTTON, self.OnClick)\n",
    "        # Mostrar la interfaz\n",
    "        self.Show()\n",
    "        \n",
    "    #Metodos de la clase\n",
    "    def OnClick(self,event):\n",
    "        print(u\"Hola mundo\")\n",
    "         \n",
    "if __name__ == \"__main__\":\n",
    "    app = wx.App()\n",
    "    fr = Mi_app(None, -1, \"Hola App\", size=(300,200))\n",
    "    app.MainLoop()  "
   ]
  },
  {
   "cell_type": "markdown",
   "id": "transsexual-formation",
   "metadata": {},
   "source": [
    "<img src= \"hola_mundo4.PNG\">\n",
    "\n",
    "<div style=\"text-align: center\">\n",
    "Ejemplo basico del uso de wxPython\n",
    "<div/>\n",
    "\n",
    "Obtenido de: [DESARROLLA TU GUI CON WXPYTHON EN PYTHON 3](https://unipython.com/desarrolla-tu-gui-con-wxpython-en-python-3/ \"Introdución a wxPython\")"
   ]
  },
  {
   "cell_type": "markdown",
   "id": "arranged-victim",
   "metadata": {},
   "source": [
    "# Conceptos de Infix y Postfix"
   ]
  },
  {
   "cell_type": "markdown",
   "id": "tight-yorkshire",
   "metadata": {},
   "source": [
    "Cuando escribe una expresión aritmética como A * B, la forma de la expresión proporciona información \n",
    "para poder ser interpretada correctamente. En este caso sabemos que la variable A está siendo multiplicada \n",
    "por la variable B porque el operador de multiplicación aparece entre ellos en la expresión. A este tipo de \n",
    "notación se conoce como infix porque el operador se encuentra entre los dos operandos en los que está trabajando.\n",
    "\n",
    "Si consideramos otro ejemplo de infix, tenemos la expresión: A + B * C. Los operadores + y * todavía aparecen entre los operandos, por lo que sabemos de antemano que es una operación escrita como infix, pero hay un problema. ¿En qué operandos trabajan? ¿El + funciona en A y B o el * toma B y C?.\n",
    "\n",
    "Lo que sucede acá es que para el lector resolver dicha operación puede ser trivial porque entiende que las operaciones que se están realizando tienen un  orden de precedencia, donde primero se realiza la multiplicación y luego la suma, y que lo único que puede cambiar este orden de precedencia es el uso de parentesis en la expresión."
   ]
  },
  {
   "cell_type": "markdown",
   "id": "attractive-perry",
   "metadata": {},
   "source": [
    "### Orden de precedencia para los operadores aritméticos."
   ]
  },
  {
   "cell_type": "markdown",
   "id": "cross-wagon",
   "metadata": {},
   "source": [
    "El orden de precedencia de los operadores aritméticos coloca a la multiplicación y a la división, por encima de la suma y la resta, y sobre todas las anteriores tenemos a las potencias. Por otro lado, si aparecen dos operadores de igual precedencia, entonces se utiliza un orden de precedencia de izquierda a derecha o asociatividad.\n",
    "\n",
    "La razón por la cuál se introduce lo que es el orden de precedencia de las operaciones aritméticas es porque, como se mecionó previamente esto puede parecer muy simple para uno, sin embargo las computadoras ocupan saber exactamente cual operación hacer primero y en qué orden. Una manera de eliminar esta ambigüedad es escribir la expresión con paréntesis, donde cada par de paréntesis indican una operación a realizar."
   ]
  },
  {
   "cell_type": "markdown",
   "id": "heated-commission",
   "metadata": {},
   "source": [
    "## Expresión en Postfix"
   ]
  },
  {
   "cell_type": "markdown",
   "id": "sustained-inventory",
   "metadata": {},
   "source": [
    "Consideremos la expresión A + B, si pasamos el operador después de los dos operandos sobre los que este está trabajando tenemos una expresión en postfix, por lo que podemos concluir que para obtener una operación en postfix se requiere que el operador aparezca después de los dos operandos correspondientes. Hay que tener en cuenta que lo que único que se desplaza cuando se pasa de una expresión en infix a una en postfix, son los operadores, los operandos quedan tal y como se tenían.\n",
    "\n",
    "### A continuación se presentan algunos ejemplos para visualizar de mejor manera la conversión de infix a postfix:\n",
    "\n",
    "<img src= \"tabla infixpostfix.JPG\">\n",
    "\n",
    "<div style=\"text-align: center\">\n",
    "Ejemplos de Infix a Postfix\n",
    "<div/>\n",
    "    \n",
    "Como una conclusión del cuadro anterior podemos observar que si ponemos la expresión con todos los parentesis necesarios, para pasar a postfix lo único que se debe hacer es pasar el operador que está entre dos parentesis a la posición del paréntesis derecho y luego eliminar el parentesis izquierdo como se observa en la siguiente figura:\n",
    "    \n",
    "<img src= \"parentesis.JPG\">\n",
    "\n",
    "<div style=\"text-align: center\">\n",
    "Como correr los operadores para obtener un postfix\n",
    "<div/>"
   ]
  },
  {
   "cell_type": "markdown",
   "id": "flush-disease",
   "metadata": {},
   "source": [
    "# Implementación de los conceptos anteriores\n",
    "\n",
    "A continuación se presenta un implementación con código escrito en Python de lo que es una calculadora tipo Linux que realiza tanto la conversión de una expresión escrita en infix a una escrita en postfix, y a su vez puede calcular el valor numérico de dicha expresión. "
   ]
  },
  {
   "cell_type": "code",
   "execution_count": 4,
   "id": "matched-complement",
   "metadata": {},
   "outputs": [],
   "source": [
    "import wx\n",
    "from pythonds import Stack\n",
    "\n",
    "class Calculadora(wx.Frame):\n",
    "    def __init__(self, parent, title): #Parametros de la ventana\n",
    "        wx.Frame.__init__(self, parent = parent, title = title, size = (400,210)) #Constructor\n",
    "        ubicador = wx.BoxSizer(wx.VERTICAL) #Para no poner cordenadas del los controles\n",
    "        mensaje_1 = wx.StaticText(self, -1, u\"Infix-postfix calculator\\t.\");\n",
    "        self.cuadro_texto = wx.TextCtrl(self, style = wx.TE_MULTILINE) #Cuadro de texto con salto del linea\n",
    "        self.boton_calcular_posfix = wx.Button(self, -1, u\"Calculate\", size = (80,20)) #Boton\n",
    "        self.boton_calcular_infix_postfix = wx.Button(self, -1, u\"Infix a postfix\", size = (80,20)) #Boton\n",
    "        self.boton_borrar = wx.Button(self, -1, u\"Borrar\", size = (80,20)) #Boton\n",
    "        ubicador.Add(mensaje_1, 1, wx.ALIGN_RIGHT, 5)\n",
    "        ubicador.Add(self.cuadro_texto,10, wx.EXPAND | wx.ALL, 5) #(control,proporcion,ubicacion y expancion con pixeles de margen)\n",
    "        ubicador.Add(self.boton_calcular_posfix,3, wx.ALIGN_LEFT | wx.ALL, 3)\n",
    "        ubicador.Add(self.boton_calcular_infix_postfix,3, wx.ALIGN_LEFT | wx.ALL, 3)\n",
    "        ubicador.Add(self.boton_borrar,3, wx.ALIGN_LEFT | wx.ALL, 3) #Le ponemos self. a los botones por si ocupamos usarlos como variable\n",
    "        \n",
    "        \n",
    "        #Icono\n",
    "        self.SetIcon(wx.Icon('Linux.ico', wx.BITMAP_TYPE_ICO))\n",
    "        #Color de fondo de la ventana\n",
    "        color = wx.Colour(20, 30, 340)\n",
    "        self.SetBackgroundColour(color)\n",
    "        self.Refresh()#eraseBackground=True, rect=None\n",
    "        #Color fuente de botones\n",
    "        self.boton_calcular_posfix.SetForegroundColour('black')\n",
    "        self.boton_calcular_infix_postfix.SetForegroundColour('black')\n",
    "        self.boton_borrar.SetForegroundColour('black')\n",
    "        #Llamado de la imagen de fondo\n",
    "        self.Bind(wx.EVT_PAINT, self.paint)\n",
    "        #Taman_o fuente ventana\n",
    "        self.cuadro_texto.SetFont(wx.Font(15, 74, 90, 90, 0, \"Tahoma\"))\n",
    "        #Color del static text\n",
    "        mensaje_1.SetForegroundColour(\"#FFFF\")\n",
    "        #Fondo del static text\n",
    "        #mensaje_1.SetBackgroundColour(wx.Colour('# 232321'))#Treminar transparencias\n",
    "        \n",
    "        \n",
    "        #Eventos\n",
    "        #Poner aqui la funcion que se va a invocar con el boton\n",
    "        self.Bind(wx.EVT_BUTTON, self.calcular, self.boton_calcular_posfix) #(tipo de evento, funcion de la clase que recibe, de donde viene el evento)\n",
    "        self.Bind(wx.EVT_BUTTON, self.infix_postfix, self.boton_calcular_infix_postfix)\n",
    "        self.Bind(wx.EVT_BUTTON, self.borrar, self.boton_borrar)\n",
    "        \n",
    "        #Invocaciones\n",
    "        self.SetSizer(ubicador)\n",
    "        self.Centre(True)\n",
    "        self.Show()\n",
    "    \n",
    "    #Metodo para la imagen de fondo\n",
    "    def paint(self, event=None):\n",
    "        dc = wx.PaintDC(self) \n",
    "        dc.DrawBitmap (wx.Bitmap(\"fondo.jpg\"),0,0,True)\n",
    "        \n",
    "    #Funcion que invoca boton_borrar\n",
    "    def borrar(self,event): #Esos argumentos son obligatorios\n",
    "        self.cuadro_texto.SetLabelText(\"\")\n",
    "    def infix_postfix(self,event): #Esos argumentos son obligatorios\n",
    "        text = self.cuadro_texto.GetValue() #Con esta funcion obtenemos lo que se escribio en el cuadro\n",
    "        temp = text.split(sep='=')\n",
    "        if len(temp) == 2:\n",
    "            temp.pop(1)\n",
    "            self.cuadro_texto.SetLabelText(temp[0] + \"=\" + self.infix_to_postfix(temp[0]))\n",
    "        else:\n",
    "            self.cuadro_texto.SetLabelText(text + \"=\" + self.infix_to_postfix(text))\n",
    "        \n",
    "    def calcular(self,event): #Esos argumentos son obligatorios\n",
    "        text = self.cuadro_texto.GetValue() #Con esta funcion obtenemos lo que se escribio en el cuadro\n",
    "        temp = text.split(sep='=')\n",
    "        if len(temp) == 2:\n",
    "            temp.pop(1)\n",
    "            self.cuadro_texto.SetLabelText(temp[0] + \"=\" + str(self.evaluatePostfix(self.infix_to_postfix(temp[0]))))\n",
    "        else:\n",
    "            self.cuadro_texto.SetLabelText(text + \"=\" + str(self.evaluatePostfix(self.infix_to_postfix(text))))\n",
    "        \n",
    "    def infix_to_postfix(self, expression): #input expression\n",
    "        OPERATORS = set(['+', '-', '*', '/', '(', ')'])  # operadores\n",
    "        PRIORITY = {'+':1, '-':1, '*':2, '/':2} # diccionario que tiene las prioridades\n",
    "        stack = [] # se inicializa un stack vacio\n",
    "        output = '' # se inicializa el output vacio\n",
    "        for ch in expression:\n",
    "            if ch not in OPERATORS:  # si es un operando, póngalo en un postfix \n",
    "                output+= ch\n",
    "            elif ch == '(' :  # sino los operadores deber ir al stack\n",
    "\n",
    "                stack.append('(')\n",
    "            elif ch==')':\n",
    "                while stack and stack[-1]!= '(':\n",
    "                    output+=stack.pop()\n",
    "                stack.pop()\n",
    "            else:\n",
    "                # la prioridad menor no puede estar en la parte superior con una prioridad mayor o igual   \n",
    "                # entonces se hace un pop y se pone en el output  \n",
    "                while stack and stack[-1]!='(' and PRIORITY[ch]<=PRIORITY[stack[-1]]:  # se compara el operador con la parte superior de la pila \n",
    "                    output+=stack.pop()  # se hace un pop al operador de menor prioridad y se muestra en la salida \n",
    "                stack.append(ch)  # se le hace un PUSH al operador de mayor prioridad en el stack\n",
    "                output += ' '\n",
    "        while stack:\n",
    "            output+=stack.pop()  # saca cada elemento del stack, uno por uno, y los muestra en la salida al final\n",
    "        return output  # devuelve la expresion en postfix \n",
    "\n",
    "    def evaluatePostfix(self,exp):\n",
    "        obj = Stack()           #instancio un objeto tipo Stack\n",
    "        exp2 = exp.split(' ')   # se le hace un split a la expresion \n",
    "        str_aux = ''\n",
    "\n",
    "        # si el caracter leido es un operando metalo al stack\n",
    "        for i in exp2: \n",
    "            if str_aux != '':\n",
    "                obj.push(str_aux)\n",
    "        \n",
    "            str_aux = ''\n",
    "            for j in i:\n",
    "                if j.isdigit(): \n",
    "                    str_aux += j\n",
    "                       \n",
    "            # si el caracter leido es un operador, hagale un pop a dos elementos del stack y aplique la operacion \n",
    "                else: \n",
    "                    if str_aux != '':\n",
    "                        obj.push(str_aux)\n",
    "                    val1 = obj.pop()            # extraigo el valor de 1\n",
    "                    val2 = obj.pop()            # extraigo el valor de 2\n",
    "                    obj.push(str(int(eval(val2 + j + val1))))\n",
    "                    str_aux = ''\n",
    "            \n",
    "        return int(obj.pop()) \n",
    "\n",
    "# clase stack\n",
    "class Stack():\n",
    "    def __init__(self):\n",
    "        self.items = []\n",
    "    def push(self,item):\n",
    "        self.items.append(item)\n",
    "    def pop(self):\n",
    "        return self.items.pop()\n",
    "    def is_empty(self):\n",
    "        return self.items==[]\n",
    "    def peek(self):\n",
    "        if not self.is_empty():\n",
    "            return self.items[-1]\n",
    "    def show_stack(self):\n",
    "        return self.items\n",
    "\n",
    "\n",
    "\n",
    "if __name__ == '__main__':\n",
    "    app = wx.App()\n",
    "    frame = Calculadora(None, u\"Linux Style Calculator\")\n",
    "    app.MainLoop()\n",
    "del app\n",
    "\n",
    "#del app #En Jupyter esta dando problemas si no se hagrega esta linea. Ponerla aqui (*)"
   ]
  },
  {
   "cell_type": "markdown",
   "id": "geographic-tomorrow",
   "metadata": {},
   "source": [
    "<img src= \"calcu2.PNG\">\n",
    "\n",
    "<div style=\"text-align: center\">\n",
    "Calculadora infix a postfix y evaluar\n",
    "<div/>"
   ]
  }
 ],
 "metadata": {
  "kernelspec": {
   "display_name": "Python 3",
   "language": "python",
   "name": "python3"
  },
  "language_info": {
   "codemirror_mode": {
    "name": "ipython",
    "version": 3
   },
   "file_extension": ".py",
   "mimetype": "text/x-python",
   "name": "python",
   "nbconvert_exporter": "python",
   "pygments_lexer": "ipython3",
   "version": "3.7.9"
  }
 },
 "nbformat": 4,
 "nbformat_minor": 5
}
